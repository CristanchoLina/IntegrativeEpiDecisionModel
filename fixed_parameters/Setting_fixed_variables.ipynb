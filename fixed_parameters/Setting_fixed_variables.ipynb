{
 "cells": [
  {
   "cell_type": "code",
   "execution_count": 1,
   "metadata": {},
   "outputs": [],
   "source": [
    "#Import basic python librairies\n",
    "\n",
    "import networkx as nx\n",
    "import numpy as np\n",
    "import pandas as pd\n",
    "import random\n",
    "from datetime import datetime\n",
    "import numba\n",
    "from numba import jit\n",
    "import matplotlib.pyplot as plt\n",
    "\n",
    "import igraph\n",
    "import pylab\n",
    "from igraph import *"
   ]
  },
  {
   "cell_type": "code",
   "execution_count": 2,
   "metadata": {},
   "outputs": [],
   "source": [
    "# Set seed\n",
    "np.random.seed(100)"
   ]
  },
  {
   "cell_type": "code",
   "execution_count": 3,
   "metadata": {},
   "outputs": [],
   "source": [
    "# Function pour créer trade rates theta_ij ( powerlaw) \n",
    "\n",
    "power = 2.0\n",
    "def create_edges_nbfils(L, power = power, tries = 1000000):  \n",
    "\n",
    "    p=list(1 / (np.array(range(1, L)))**power) \n",
    "    p = p/sum(p)\n",
    "    out_degs = list(np.random.choice(range(1, L), L, replace = True, p = p))\n",
    "    ## Note, that we correct the degree sequence if its sum is odd\n",
    "    if (sum(out_degs) % 2 != 0):\n",
    "        out_degs[0] = out_degs[0] + 1 \n",
    "        \n",
    "    g = igraph.Graph.Degree_Sequence(out_degs, out_degs, method=\"simple\")\n",
    "    #g = igraph.Graph.Barabasi(L, int(L/2), directed = True, power = 1.5, outpref = True)\n",
    "    g = g.simplify(multiple=True, loops=True)\n",
    "    print(\"Number of vertices:\", g.vcount())\n",
    "    print(\"Number of edges:\", g.ecount())\n",
    "    \n",
    "    g.es[\"weight\"] = 1\n",
    "\n",
    "    edges = []\n",
    "    weights = []\n",
    "    for e in g.es:\n",
    "        edges.append(e.tuple)\n",
    "        weights.append(e[\"weight\"])\n",
    "    edges = np.array(edges)\n",
    "    weights = np.array(weights)\n",
    "    theta_edges = np.hstack((edges, np.zeros((edges.shape[0], 1))))\n",
    "    theta_edges[:,2] = weights \n",
    "\n",
    "    theta_edges = theta_edges.astype(float)\n",
    "    theta_edges[:,2] = 1\n",
    "\n",
    "    # To plot: \n",
    "    #for v in g.vs:\n",
    "    #    v[\"value\"] = v.index\n",
    "\n",
    "    #g.vs[\"label\"] = g.vs[\"value\"]\n",
    "    #out_fig_name = \"graph.eps\"\n",
    "    #layout = g.layout(\"circle\")\n",
    "    #igraph.plot(g, out_fig_name,layout = layout)\n",
    "    \n",
    "    return np.array(theta_edges)"
   ]
  },
  {
   "cell_type": "code",
   "execution_count": 4,
   "metadata": {},
   "outputs": [
    {
     "name": "stdout",
     "output_type": "stream",
     "text": [
      "Number of vertices: 5000\n",
      "Number of edges: 21050\n",
      "Simulation step delta: 0.5\n",
      "Simulated years: 3.0\n",
      "Demographic parameters (mu and tau): [0.00182648 0.00091324]\n"
     ]
    }
   ],
   "source": [
    "# FIXED PARAMETERS\n",
    "L = 5000 # nombre de noeuds\n",
    "#min_anim, max_anim = 20, 50 \n",
    "\n",
    "# Trading parameters\n",
    "theta_edges = create_edges_nbfils(L)\n",
    "\n",
    "# Simulation setting\n",
    "delta = 0.5\n",
    "nb_steps = int(365/delta*3)\n",
    "\n",
    "# Demographic parameters\n",
    "demo_params = np.array([[1/(365*1.5), 1/(365*3)]]*L) # 1/(365*2)\n",
    "\n",
    "print('Simulation step delta:', delta)\n",
    "print('Simulated years:', nb_steps*delta/365)\n",
    "print('Demographic parameters (mu and tau):', demo_params[0])"
   ]
  },
  {
   "cell_type": "code",
   "execution_count": 5,
   "metadata": {},
   "outputs": [
    {
     "name": "stdout",
     "output_type": "stream",
     "text": [
      "Aditionally created in-edges: 0\n",
      "Additionally created out-edges: 0\n"
     ]
    }
   ],
   "source": [
    "# On rajoute un voisin pour les fermes sans acheteurs, et pour celles sans vendeurs\n",
    "# sinon à la fin elles auront soit trop d'animaux, soit un.\n",
    "\n",
    "def find_missing(lst): \n",
    "    return [x for x in range(0, L)\n",
    "                               if x not in lst] \n",
    "\n",
    "sorted_receveirs =  sorted(theta_edges[:,1].astype(int))\n",
    "non_receveirs = find_missing(sorted_receveirs)\n",
    "theta_edges = list(theta_edges)\n",
    "for i in non_receveirs:\n",
    "    if i == 0:\n",
    "        theta_edges.append(np.array([i+1, i, 1]))\n",
    "    else:\n",
    "        theta_edges.append(np.array([i-1, i, 1])) \n",
    "theta_edges = np.array(theta_edges)\n",
    "\n",
    "sorted_givers =  sorted(theta_edges[:,0].astype(int))\n",
    "non_givers = find_missing(sorted_givers)\n",
    "theta_edges = list(theta_edges)\n",
    "for i in non_givers:\n",
    "    if i == 0:\n",
    "        theta_edges.append(np.array([i, i+1, 1]))\n",
    "    else:\n",
    "        theta_edges.append(np.array([i, i-1, 1])) \n",
    "theta_edges = np.array(theta_edges)\n",
    "\n",
    "#Des fois ca peut etre 1 si le seul voisin d'un node c'etait un loop, \n",
    "# je crée artificiellemnt un voisin pour ces noeuds\n",
    "\n",
    "print('Aditionally created in-edges:', len(non_receveirs))\n",
    "print('Additionally created out-edges:', len(non_givers))"
   ]
  },
  {
   "cell_type": "code",
   "execution_count": 6,
   "metadata": {},
   "outputs": [],
   "source": [
    "# On check le nombre minimal et maximal de voisins\n",
    "\n",
    "a = []\n",
    "b = []\n",
    "for i in range(L):\n",
    "    a.append(np.sum(theta_edges[:,1] == i))\n",
    "    b.append(np.sum(theta_edges[:,0] == i))\n",
    "    \n",
    "in_deg = np.array(a)\n",
    "out_deg = np.array(b)"
   ]
  },
  {
   "cell_type": "code",
   "execution_count": 7,
   "metadata": {},
   "outputs": [],
   "source": [
    "# Theta edges as graph to plot and compute shortest lengths \n",
    "edges = theta_edges[:, :2].astype(int).tolist()\n",
    "edges = [[str(j) for j in i] for i in edges]\n",
    "\n",
    "# collect the set of vertex names and then sort them into a list\n",
    "vertices = set()\n",
    "for line in edges:\n",
    "    vertices.update(line)\n",
    "vertices = sorted(vertices)\n",
    "\n",
    "# create an empty graph\n",
    "g = igraph.Graph(directed = True)\n",
    "\n",
    "# add vertices to the graph\n",
    "g.add_vertices(vertices)\n",
    "\n",
    "# add edges to the graph\n",
    "g.add_edges(edges)\n",
    "\n",
    "# set the weight of every edge to 1\n",
    "g.es[\"weight\"] = 1\n",
    "\n",
    "# collapse multiple edges and sum their weights\n",
    "g.simplify(combine_edges={\"weight\": \"sum\"})\n",
    "\n",
    "for v in g.vs:\n",
    "    v[\"value\"] = v.index\n",
    "\n",
    "g.vs[\"label\"] = g.vs[\"value\"]\n",
    "# To plot:\n",
    "#out_fig_name = \"graph.eps\"\n",
    "#layout = g.layout(\"kk\")\n",
    "#plot(g, out_fig_name,layout = layout)\n",
    "\n",
    "shortest_paths = np.array(g.shortest_paths_dijkstra(weights=None, mode=IN))"
   ]
  },
  {
   "cell_type": "code",
   "execution_count": 8,
   "metadata": {},
   "outputs": [
    {
     "data": {
      "text/plain": [
       "<Figure size 432x288 with 0 Axes>"
      ]
     },
     "metadata": {},
     "output_type": "display_data"
    },
    {
     "data": {
      "image/png": "[encoded data removed]",
      "text/plain": [
       "<Figure size 432x288 with 1 Axes>"
      ]
     },
     "metadata": {
      "needs_background": "light"
     },
     "output_type": "display_data"
    },
    {
     "name": "stdout",
     "output_type": "stream",
     "text": [
      "Range initial size: ( 25 , 287 )\n"
     ]
    }
   ],
   "source": [
    "# Initial size herds\n",
    "N0s = np.random.gamma(9,12, L)\n",
    "#N0s = np.random.gamma(3,40, L)\n",
    "N0s = N0s.astype(int)\n",
    "N0s_pd = pd.DataFrame(N0s)\n",
    "\n",
    "plt.figure()\n",
    "N0s_pd.hist(bins =35,  weights=np.zeros_like(N0s_pd) + 1. / N0s_pd.size)\n",
    "plt.tight_layout()\n",
    "plt.title('Initial herd size distribution')\n",
    "plt.show()\n",
    "\n",
    "\n",
    "print('Range initial size:', '(', min(N0s), ',', max(N0s), ')')"
   ]
  },
  {
   "cell_type": "code",
   "execution_count": 9,
   "metadata": {},
   "outputs": [],
   "source": [
    "# Assignatio des tailles d'après le degré:\n",
    "\n",
    "#sort thetas_i from small to big\n",
    "df_out_degrees = pd.DataFrame(out_deg)\n",
    "df_out_degrees['indegree']  = in_deg # add in degree to the database for later\n",
    "N0s_pd  = N0s_pd.sort_values(0) \n",
    "\n",
    "#group creation (4 groups)\n",
    "#group = np.repeat(np.array(range(0,100)), [int(L/100)]*100, axis=0)\n",
    "#N0s_pd['group'] = group\n",
    "#size = int(L/100)   # sample size\n",
    "#replace = True  # with replacement \n",
    "#fn = lambda obj: obj.loc[np.random.choice(obj.index, size, replace),:]\n",
    "#N0s_pd = N0s_pd.groupby('group', as_index=False).apply(fn)\n",
    "\n",
    "sorted_bygroup_N0s = np.array(N0s_pd[0])\n",
    "\n",
    "# Data frame de degrees avec N0s\n",
    "df_out_degrees  = df_out_degrees.sort_values(0)\n",
    "df_out_degrees['N0s'] = sorted_bygroup_N0s\n",
    "df_out_degrees = df_out_degrees.sort_index()"
   ]
  },
  {
   "cell_type": "code",
   "execution_count": 10,
   "metadata": {},
   "outputs": [],
   "source": [
    "N0s = np.array(df_out_degrees['N0s'])\n",
    "capacities = N0s*1.5"
   ]
  },
  {
   "cell_type": "code",
   "execution_count": 11,
   "metadata": {},
   "outputs": [
    {
     "data": {
      "text/plain": [
       "<Figure size 432x288 with 0 Axes>"
      ]
     },
     "metadata": {},
     "output_type": "display_data"
    },
    {
     "data": {
      "image/png": "[encoded data removed]",
      "text/plain": [
       "<Figure size 432x288 with 1 Axes>"
      ]
     },
     "metadata": {
      "needs_background": "light"
     },
     "output_type": "display_data"
    }
   ],
   "source": [
    "# Tirage de out thetas\n",
    "#p=list(1 / (np.array(np.arange(0.00047, 0.00047*max(out_deg)/3,  0.000001)))**power) \n",
    "#p=list(1 / (np.array(np.arange(0.00047, 0.1, 0.000001)))**2) \n",
    "#p=list(1 / (np.array(np.arange(0.0006, 0.00076*max(out_deg)*43/1000, 0.000001)))**power) \n",
    "#p=list(1 / (np.array(np.arange(0.0006, 0.0006*np.log(max(out_deg)/10), 0.000001)))**power) \n",
    "p=list(1 / (np.array(np.arange(0.0006,  1, 0.000001)))**power) \n",
    "p = p/sum(p)\n",
    "out_thetas = list(np.random.choice(np.arange(0.0006,  1,  0.000001), L, replace = True, p = p)) \n",
    "out_thetas = pd.DataFrame(out_thetas)\n",
    "plt.figure()\n",
    "out_thetas.hist(bins = 100,  weights=np.zeros_like(out_thetas) + 1. / out_thetas.size)\n",
    "plt.tight_layout()\n",
    "plt.title('Distribution du taux de sortie')\n",
    "plt.show()\n",
    "\n",
    "#sort thetas_i from small to big\n",
    "out_thetas  = out_thetas.sort_values(0)\n",
    "\n",
    "#group creation (4 groups)\n",
    "#group = np.repeat(np.array(range(0,100)), [int(L/100)]*100, axis=0)\n",
    "#out_thetas['group'] = group\n",
    "\n",
    "#size = int(L/100)  # sample size\n",
    "#replace = True  # with replacement ?????\n",
    "#fn = lambda obj: obj.loc[np.random.choice(obj.index, size, replace),:]\n",
    "#out_thetas = out_thetas.groupby('group', as_index=False).apply(fn)\n",
    "\n",
    "sorted_bygroup_thetas_i = np.array(out_thetas[0])"
   ]
  },
  {
   "cell_type": "code",
   "execution_count": 12,
   "metadata": {},
   "outputs": [],
   "source": [
    "# Data frame de degrees avec theta_i\n",
    "df_out_degrees  = df_out_degrees.sort_values(0)\n",
    "#df_out_degrees  = df_out_degrees.sort_values('indegree', ascending=False)\n",
    "df_out_degrees['theta_i'] = sorted_bygroup_thetas_i\n",
    "df_out_degrees = df_out_degrees.sort_index()\n",
    "\n",
    "# Data frame de tailles avec theta_i\n",
    "#df_NOs  = N0s_pd.sort_values(0)\n",
    "#df_NOs['theta_i'] = sorted_bygroup_thetas_i\n",
    "#df_NOs = df_NOs.sort_index()\n",
    "\n",
    "#Assigner le degree par rapport à la taille\n",
    "# Assignatio des tailles d'après le degré:\n",
    "#sort thetas_i from small to big\n",
    "#df_out_degrees = pd.DataFrame(out_deg)\n",
    "#df_out_degrees  = df_out_degrees.sort_values(0)\n",
    "\n",
    "#group creation (4 groups)\n",
    "#group = np.repeat(np.array(range(0,4)), [int(L/4)]*4, axis=0)\n",
    "#df_out_degrees['group'] = group\n",
    "\n",
    "#size = int(L/4)  # sample size\n",
    "#replace = True  # with replacement ?????\n",
    "#fn = lambda obj: obj.loc[np.random.choice(obj.index, size, replace),:]\n",
    "#df_out_degrees = df_out_degrees.groupby('group', as_index=False).apply(fn)\n",
    "\n",
    "#sorted_bygroup_out_degrees = np.array(df_out_degrees[0])\n",
    "\n",
    "# Data frame de tailles avec degree\n",
    "#df_NOs  = df_NOs.sort_values(0)\n",
    "#df_NOs['degree'] = sorted_bygroup_out_degrees\n",
    "#df_NOs = df_NOs.sort_index()"
   ]
  },
  {
   "cell_type": "code",
   "execution_count": 13,
   "metadata": {},
   "outputs": [
    {
     "name": "stdout",
     "output_type": "stream",
     "text": [
      "Spearman correlation:\n",
      "                 0  indegree       N0s   theta_i\n",
      "0         1.000000  0.996794  0.872176  0.872163\n",
      "indegree  0.996794  1.000000  0.868700  0.868703\n",
      "N0s       0.872176  0.868700  1.000000  0.999959\n",
      "theta_i   0.872163  0.868703  0.999959  1.000000\n",
      "Pearson correlation\n",
      "                 0  indegree       N0s   theta_i\n",
      "0         1.000000  0.998731  0.476725  0.993509\n",
      "indegree  0.998731  1.000000  0.477175  0.991373\n",
      "N0s       0.476725  0.477175  1.000000  0.454808\n",
      "theta_i   0.993509  0.991373  0.454808  1.000000\n"
     ]
    }
   ],
   "source": [
    "# corr entre theta_i et out_degree\n",
    "print('Spearman correlation:')\n",
    "print(df_out_degrees.corr(method='spearman'))\n",
    "print('Pearson correlation')\n",
    "print(df_out_degrees.corr(method='pearson'))"
   ]
  },
  {
   "cell_type": "code",
   "execution_count": 14,
   "metadata": {},
   "outputs": [],
   "source": [
    "# Assign theta_i en le nombre de voisins acheteurs\n",
    "for i in range(0,L):\n",
    "    ijw = theta_edges[theta_edges[:,0] == i, :] \n",
    "    neighb_i = ijw[:,1].astype(int)\n",
    "    theta_i_out = np.array(df_out_degrees['theta_i'])[i]\n",
    "    outdeg_neighi = out_deg[neighb_i]\n",
    "    indeg_neighi = in_deg[neighb_i]\n",
    "    sizes_neighi = N0s[neighb_i]\n",
    "    theta_neighi_out = np.array(df_out_degrees['theta_i'])[tuple([neighb_i])]\n",
    "    #theta_prime = (theta_neighi_out + shortest_paths[i, neighb_i] + outdeg_neighi) /(indeg_neighi) #shortest_paths[i, neighb_i]\n",
    "    theta_prime = (theta_neighi_out + shortest_paths[i, neighb_i])/indeg_neighi  # shortest_paths[i, neighb_i] #/(indeg_neighi) #shortest_paths[i, neighb_i]\n",
    "    theta_i_neighi = theta_prime * theta_i_out / np.sum(theta_prime)\n",
    "    theta_edges[theta_edges[:,0] == i, 2] = theta_i_neighi\n",
    "    \n",
    "# Splitter theta_i en le nombre de voisins acheteurs\n",
    "#unique_theta_ij = np.array(df_out_degrees['theta_i'])/out_deg\n",
    "#for k in range(0,L):\n",
    "#    theta_edges[theta_edges[:,0] == k, 2] =  unique_theta_ij[k]\n",
    "\n",
    "theta_pd = pd.DataFrame(theta_edges)"
   ]
  },
  {
   "cell_type": "code",
   "execution_count": 15,
   "metadata": {},
   "outputs": [],
   "source": [
    "#Save fixed parameters\n",
    "\n",
    "#Save initial number of animals by herd\n",
    "np.savetxt('N0s.txt', N0s)\n",
    "\n",
    "#Save setting (delta and nb-steps)\n",
    "setting = np.array([delta, nb_steps])\n",
    "np.savetxt('setting.txt', setting)\n",
    "\n",
    "#Save demo_params\n",
    "np.savetxt('demo_params.txt', demo_params)\n",
    "\n",
    "#Save theta_edges\n",
    "np.savetxt('theta_edges.txt', theta_edges)"
   ]
  }
 ],
 "metadata": {
  "kernelspec": {
   "display_name": "Python 3",
   "language": "python",
   "name": "python3"
  },
  "language_info": {
   "codemirror_mode": {
    "name": "ipython",
    "version": 3
   },
   "file_extension": ".py",
   "mimetype": "text/x-python",
   "name": "python",
   "nbconvert_exporter": "python",
   "pygments_lexer": "ipython3",
   "version": "3.7.3"
  }
 },
 "nbformat": 4,
 "nbformat_minor": 2
}
