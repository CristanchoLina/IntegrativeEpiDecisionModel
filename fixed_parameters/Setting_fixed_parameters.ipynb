{
 "cells": [
  {
   "cell_type": "markdown",
   "metadata": {},
   "source": [
    "## Notebook for fixing simulation setting, network structure and demographic parameters"
   ]
  },
  {
   "cell_type": "code",
   "execution_count": 1,
   "metadata": {},
   "outputs": [],
   "source": [
    "# Import librairies\n",
    "import numpy as np\n",
    "import pandas as pd\n",
    "import matplotlib.pyplot as plt\n",
    "import igraph\n",
    "import seaborn as sns; sns.set(style=\"ticks\", color_codes=True)\n",
    "from collections import Counter"
   ]
  },
  {
   "cell_type": "code",
   "execution_count": 2,
   "metadata": {},
   "outputs": [],
   "source": [
    "# Set seed\n",
    "np.random.seed(100)"
   ]
  },
  {
   "cell_type": "code",
   "execution_count": 3,
   "metadata": {},
   "outputs": [],
   "source": [
    "#### Trade network function definition #\n",
    "\n",
    "def create_edges_nbfils(L, power, tries = 1000000):  \n",
    "\n",
    "    ''' Function for simulating a directed weighted powerlaw graph with weights = 1 all'''\n",
    "\n",
    "    # Generate de out-degree = in-degree sequence with the given power\n",
    "    p= list(1 / (np.array(range(1, L)))**power) \n",
    "    p = p/sum(p)\n",
    "    out_degs = list(np.random.choice(range(1, L), L, replace = True, p = p))\n",
    "\n",
    "    # We correct the degree sequence if its sum is odd\n",
    "    if (sum(out_degs) % 2 != 0):\n",
    "        out_degs[0] = out_degs[0] + 1 \n",
    "\n",
    "    # Generate directed graph with the given out-degree = in-degree sequence \n",
    "    g = igraph.Graph.Degree_Sequence(out_degs, out_degs, method=\"simple\")\n",
    "    g = g.simplify(multiple=True, loops=True) # remove loops or multiple edges\n",
    "\n",
    "    print('Power:', power)\n",
    "    g.es[\"weight\"] = 1 # the graph is also weighted , the weights will later be modified\n",
    "\n",
    "    edges = []\n",
    "    weights = []\n",
    "    for e in g.es:\n",
    "        edges.append(e.tuple)\n",
    "        weights.append(e[\"weight\"])\n",
    "    edges = np.array(edges)\n",
    "    weights = np.array(weights)\n",
    "\n",
    "    # Array with list f edges and weights. Columns: i,j,theta_ij\n",
    "    theta_edges = np.hstack((edges, np.zeros((edges.shape[0], 1))))\n",
    "    theta_edges[:,2] = weights \n",
    "    theta_edges = theta_edges.astype(float)\n",
    "    theta_edges[:,2] = 1\n",
    "\n",
    "    return np.array(theta_edges)"
   ]
  },
  {
   "cell_type": "markdown",
   "metadata": {},
   "source": [
    "## FIXED PARAMETERS "
   ]
  },
  {
   "cell_type": "code",
   "execution_count": 4,
   "metadata": {},
   "outputs": [
    {
     "name": "stdout",
     "output_type": "stream",
     "text": [
      "Power: 2\n",
      "Number of herds: 5000\n",
      "Simulation step delta: 0.5\n",
      "Simulated years: 3\n",
      "Demographic parameters (mu and tau): [0.00182648 0.00091324]\n"
     ]
    }
   ],
   "source": [
    "# Total number of herds\n",
    "L = 5000 \n",
    "\n",
    "# Fixed graph structure with the given porwer-law (weights will be defined later)\n",
    "power = 2\n",
    "theta_edges = create_edges_nbfils(L, power)\n",
    "\n",
    "# Simulation setting\n",
    "delta = 0.5 # simulation step\n",
    "nb_years = 3 # number of years to simulate\n",
    "nb_steps = int(365/delta*nb_years) # length of each trajectory\n",
    "\n",
    "# Demographic parameters: mu (birth rate) and tau (death rate)\n",
    "demo_params = np.array([[1/(365*1.5), 1/(365*3)]]*L) \n",
    "\n",
    "print('Number of herds:', L)\n",
    "print('Simulation step delta:', delta)\n",
    "print('Simulated years:', nb_years)\n",
    "print('Demographic parameters (mu and tau):', demo_params[0])"
   ]
  },
  {
   "cell_type": "markdown",
   "metadata": {},
   "source": [
    "## SIMULATION OF POPULATION STRUCTURE "
   ]
  },
  {
   "cell_type": "code",
   "execution_count": 5,
   "metadata": {},
   "outputs": [],
   "source": [
    "# First we check that every node has a buyer and seller at least, if not we \n",
    "# add a neighbor for herds without buyers, or sellers \n",
    "# indeed, if the neighbor was itself, maybe it has no neighbor\n",
    "\n",
    "def find_missing(lst): \n",
    "    return [x for x in range(0, L)\n",
    "                               if x not in lst] \n",
    "\n",
    "sorted_receveirs =  sorted(theta_edges[:,1].astype(int))\n",
    "non_receveirs = find_missing(sorted_receveirs)\n",
    "theta_edges = list(theta_edges)\n",
    "for i in non_receveirs:\n",
    "    if i == 0:\n",
    "        theta_edges.append(np.array([i+1, i, 1]))\n",
    "    else:\n",
    "        theta_edges.append(np.array([i-1, i, 1])) \n",
    "theta_edges = np.array(theta_edges)\n",
    "\n",
    "sorted_givers =  sorted(theta_edges[:,0].astype(int))\n",
    "non_givers = find_missing(sorted_givers)\n",
    "theta_edges = list(theta_edges)\n",
    "for i in non_givers:\n",
    "    if i == 0:\n",
    "        theta_edges.append(np.array([i, i+1, 1]))\n",
    "    else:\n",
    "        theta_edges.append(np.array([i, i-1, 1])) \n",
    "theta_edges = np.array(theta_edges)"
   ]
  },
  {
   "cell_type": "code",
   "execution_count": 6,
   "metadata": {},
   "outputs": [
    {
     "name": "stdout",
     "output_type": "stream",
     "text": [
      "Aditionally created in-edges: 0\n",
      "Additionally created out-edges: 0\n"
     ]
    }
   ],
   "source": [
    "print('Aditionally created in-edges:', len(non_receveirs))\n",
    "print('Additionally created out-edges:', len(non_givers))"
   ]
  },
  {
   "cell_type": "code",
   "execution_count": 7,
   "metadata": {},
   "outputs": [],
   "source": [
    "# Degrees data frames\n",
    "a = []\n",
    "b = []\n",
    "for i in range(L):\n",
    "    a.append(np.sum(theta_edges[:,1] == i))\n",
    "    b.append(np.sum(theta_edges[:,0] == i))\n",
    "in_deg = np.array(a)\n",
    "out_deg = np.array(b)\n",
    "in_deg_pd = pd.DataFrame(in_deg)\n",
    "out_deg_pd = pd.DataFrame(out_deg)\n"
   ]
  },
  {
   "cell_type": "code",
   "execution_count": 8,
   "metadata": {},
   "outputs": [],
   "source": [
    "# Theta edges as graph to plot and compute shortest lengths \n",
    "edges = theta_edges[:, :2].astype(int).tolist()\n",
    "edges = [[str(j) for j in i] for i in edges]\n",
    "\n",
    "# collect the set of vertex names and then sort them into a list\n",
    "vertices = set()\n",
    "for line in edges:\n",
    "    vertices.update(line)\n",
    "vertices = sorted(vertices)\n",
    "\n",
    "# create an empty graph\n",
    "g = igraph.Graph(directed = True)\n",
    "\n",
    "# add vertices to the graph\n",
    "g.add_vertices(vertices)\n",
    "\n",
    "# add edges to the graph\n",
    "g.add_edges(edges)\n",
    "\n",
    "# set the weight of every edge to 1\n",
    "g.es[\"weight\"] = 1\n",
    "\n",
    "# collapse multiple edges and sum their weights\n",
    "g.simplify(combine_edges={\"weight\": \"sum\"})\n",
    "\n",
    "for v in g.vs:\n",
    "    v[\"value\"] = v.index\n",
    "\n",
    "g.vs[\"label\"] = g.vs[\"value\"]\n",
    "# To plot:\n",
    "#out_fig_name = \"graph.eps\"\n",
    "#layout = g.layout(\"kk\")\n",
    "#plot(g, out_fig_name,layout = layout)\n",
    "\n",
    "shortest_paths = np.array(g.shortest_paths_dijkstra(weights=None, mode=\"in\"))\n",
    "\n",
    "\n",
    "\n",
    "# Generate initial size herds\n",
    "N0s = np.random.gamma(9,12, L)\n",
    "N0s = N0s.astype(int)\n",
    "N0s_pd = pd.DataFrame(N0s)\n",
    "\n",
    "# Assign sizes according to out degree:\n",
    "df_out_degrees = pd.DataFrame(out_deg)#sort thetas_i from small to big\n",
    "df_out_degrees['indegree']  = in_deg # add indeg to the database too\n",
    "N0s_pd  = N0s_pd.sort_values(0) \n",
    "sorted_bygroup_N0s = np.array(N0s_pd[0])\n",
    "df_out_degrees  = df_out_degrees.sort_values(0) # Data frame de degrees avec N0s\n",
    "df_out_degrees['N0s'] = sorted_bygroup_N0s\n",
    "df_out_degrees = df_out_degrees.sort_index()\n",
    "\n",
    "# Simulate out rates theta_i\n",
    "p=list(1 / (np.array(np.arange(0.0006,  1, 0.000001)))**power) \n",
    "p = p/sum(p)\n",
    "out_thetas = list(np.random.choice(np.arange(0.0006, 1,  0.000001), L, replace = True, p = p)) \n",
    "out_thetas = pd.DataFrame(out_thetas)\n",
    "\n",
    "# Assign theta_i according to out-degree\n",
    "out_thetas  = out_thetas.sort_values(0) #sort thetas_i from small to big\n",
    "sorted_bygroup_thetas_i = np.array(out_thetas[0])\n",
    "df_out_degrees  = df_out_degrees.sort_values(0)\n",
    "df_out_degrees['theta_i'] = sorted_bygroup_thetas_i\n",
    "df_out_degrees = df_out_degrees.sort_index()\n",
    "\n",
    "# Distribute theta_i among child nodes (buyers) to obtain the theta_ij\n",
    "for i in range(0,L):\n",
    "    ijw = theta_edges[theta_edges[:,0] == i, :] \n",
    "    neighb_i = ijw[:,1].astype(int)\n",
    "    theta_i_out = np.array(df_out_degrees['theta_i'])[i]\n",
    "    outdeg_neighi = out_deg[neighb_i]\n",
    "    indeg_neighi = in_deg[neighb_i]\n",
    "    sizes_neighi = N0s[neighb_i]\n",
    "    theta_neighi_out = np.array(df_out_degrees['theta_i'])[tuple([neighb_i])]\n",
    "    theta_prime = (theta_neighi_out + shortest_paths[i, neighb_i])/indeg_neighi  # inversely proportional to the in-degree \n",
    "    theta_i_neighi = theta_prime * theta_i_out / np.sum(theta_prime)\n",
    "    theta_edges[theta_edges[:,0] == i, 2] = theta_i_neighi\n",
    "theta_pd = pd.DataFrame(theta_edges)\n"
   ]
  },
  {
   "cell_type": "markdown",
   "metadata": {},
   "source": [
    "## Plots In(Out) Degree and Initial Herd size distribution "
   ]
  },
  {
   "cell_type": "code",
   "execution_count": 9,
   "metadata": {},
   "outputs": [
    {
     "data": {
      "image/png": "[encoded data removed]",
      "text/plain": [
       "<Figure size 432x288 with 1 Axes>"
      ]
     },
     "metadata": {},
     "output_type": "display_data"
    },
    {
     "data": {
      "text/plain": [
       "<Figure size 432x288 with 0 Axes>"
      ]
     },
     "metadata": {},
     "output_type": "display_data"
    },
    {
     "data": {
      "image/png": "[encoded data removed]",
      "text/plain": [
       "<Figure size 432x288 with 1 Axes>"
      ]
     },
     "metadata": {},
     "output_type": "display_data"
    }
   ],
   "source": [
    "# Plot histogram of in_degree and out-degree, in log\n",
    "\n",
    "degrees = in_deg\n",
    "degree_counts = Counter(degrees)                                                                                                 \n",
    "x, y = zip(*degree_counts.items())                                                      \n",
    "\n",
    "plt.figure(1)   \n",
    "\n",
    "# prep axes                                                                                                                      \n",
    "plt.xlabel('log(degree)')                                                                                                             \n",
    "plt.xscale('log')           \n",
    "\n",
    "plt.ylabel('log(frequency)')                                                                                                          \n",
    "plt.yscale('log')                                                                                                                                   \n",
    "plt.scatter(x, y, marker='.')                                                                                                    \n",
    "plt.show()\n",
    "\n",
    "\n",
    "# Plot Initial herd sizes\n",
    "plt.figure()\n",
    "N0s_pd.hist(bins =35,  weights=np.zeros_like(N0s_pd) + 1. / N0s_pd.size)\n",
    "plt.title('')\n",
    "plt.xlabel('initial herd size')\n",
    "plt.ylabel('frequency')\n",
    "plt.show()"
   ]
  },
  {
   "cell_type": "markdown",
   "metadata": {},
   "source": [
    "## Save fixed parameters"
   ]
  },
  {
   "cell_type": "code",
   "execution_count": 10,
   "metadata": {},
   "outputs": [],
   "source": [
    "#Save initial number of animals by herd\n",
    "np.savetxt('N0s.txt', N0s)\n",
    "\n",
    "#Save setting (delta and nb-steps)\n",
    "setting = np.array([delta, nb_steps])\n",
    "np.savetxt('setting.txt', setting)\n",
    "\n",
    "#Save demo_params\n",
    "np.savetxt('demo_params.txt', demo_params)\n",
    "\n",
    "#Save theta_edges\n",
    "np.savetxt('theta_edges.txt', theta_edges)"
   ]
  }
 ],
 "metadata": {
  "kernelspec": {
   "display_name": "Python 3",
   "language": "python",
   "name": "python3"
  },
  "language_info": {
   "codemirror_mode": {
    "name": "ipython",
    "version": 3
   },
   "file_extension": ".py",
   "mimetype": "text/x-python",
   "name": "python",
   "nbconvert_exporter": "python",
   "pygments_lexer": "ipython3",
   "version": "3.7.6"
  }
 },
 "nbformat": 4,
 "nbformat_minor": 4
}
